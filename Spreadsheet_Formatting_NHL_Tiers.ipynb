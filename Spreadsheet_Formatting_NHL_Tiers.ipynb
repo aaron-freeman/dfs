{
 "cells": [
  {
   "cell_type": "code",
   "execution_count": null,
   "metadata": {},
   "outputs": [],
   "source": [
    "import csv\n",
    "from copy import copy\n",
    "\n",
    "import openpyxl\n",
    "from openpyxl import load_workbook\n",
    "from openpyxl.formatting import Rule\n",
    "from openpyxl.styles import PatternFill, Border, Side, Alignment, Protection, Font\n",
    "from openpyxl.styles.differential import DifferentialStyle\n",
    "from openpyxl.formatting.rule import ColorScaleRule, CellIsRule, FormulaRule\n",
    "from openpyxl.worksheet.cell_range import CellRange\n",
    "from openpyxl.utils.cell import coordinate_from_string, column_index_from_string\n",
    "from openpyxl.cell import cell\n",
    "\n",
    "import pandas as pd"
   ]
  },
  {
   "cell_type": "code",
   "execution_count": null,
   "metadata": {},
   "outputs": [],
   "source": [
    "filename = r\"C:\\Users\\aaron\\dev\\dfs\\DKEntries.xlsx\"\n",
    "\n",
    "wb = openpyxl.Workbook()\n",
    "ws = wb.active\n",
    "new_sheet = wb.create_sheet('CopySheet')\n",
    "\n",
    "entries_csv = r\"C:\\Users\\aaron\\dev\\dfs\\DKEntries.csv\"\n",
    "\n",
    "with open(entries_csv) as f:\n",
    "    reader = csv.reader(f)\n",
    "    for row in reader:\n",
    "        ws.append(row)\n",
    "\n",
    "wb.save(filename)"
   ]
  },
  {
   "cell_type": "code",
   "execution_count": null,
   "metadata": {},
   "outputs": [],
   "source": [
    "end_col_row_coord = ws.dimensions.split(':')[1]\n",
    "xy = coordinate_from_string(end_col_row_coord)\n",
    "end_col = column_index_from_string(xy[0])\n",
    "end_row = xy[1]\n",
    "\n",
    "print(end_col_row_coord)\n",
    "print(xy)\n",
    "print(end_col)\n",
    "print(end_row)"
   ]
  },
  {
   "cell_type": "code",
   "execution_count": null,
   "metadata": {},
   "outputs": [],
   "source": [
    "colors_csv = r\"C:\\Users\\aaron\\dev\\dfs\\NHL_Team_Colors.csv\"\n",
    "colors = pd.read_csv(colors_csv, dtype='str', index_col=False)\n",
    "colors"
   ]
  },
  {
   "cell_type": "code",
   "execution_count": null,
   "metadata": {
    "scrolled": true
   },
   "outputs": [],
   "source": [
    "col_dict = colors.set_index('Team').T.to_dict('list')\n",
    "col_dict"
   ]
  },
  {
   "cell_type": "code",
   "execution_count": null,
   "metadata": {},
   "outputs": [],
   "source": [
    "for key, value in col_dict.items():\n",
    "    text = Font(color=value[0])\n",
    "    fill = PatternFill(bgColor=value[1])\n",
    "    dxf = DifferentialStyle(font=text, fill=fill)\n",
    "    rule = Rule(type=\"containsText\", operator=\"containsText\", text=key, dxf=dxf)\n",
    "    rule.formula = ['=$T9=\"{}\"'.format(key)]\n",
    "    ws.conditional_formatting.add('N9:{}'.format(end_col_row_coord), rule)\n",
    "    wb.save(filename)"
   ]
  },
  {
   "cell_type": "markdown",
   "metadata": {},
   "source": [
    "## Copy 'Name+ID' column, paste into MS Word, then copy back to same column in spreadsheet"
   ]
  },
  {
   "cell_type": "code",
   "execution_count": null,
   "metadata": {
    "scrolled": false
   },
   "outputs": [],
   "source": [
    "default_sheet = wb['Sheet']\n",
    "copy_sheet = wb['CopySheet']\n",
    "\n",
    "for row in default_sheet['O9:O58']:\n",
    "    for cell in row:\n",
    "        print(cell.font.color)\n",
    "#         new_sheet[cell.coordinate] = cell.value\n",
    "#         new_sheet._styles[cell.coordinate] = copy(default_sheet._styles[cell.coordinate])\n",
    "        \n",
    "# wb.save(filename)"
   ]
  },
  {
   "cell_type": "code",
   "execution_count": null,
   "metadata": {},
   "outputs": [],
   "source": [
    "#Copy range of cells as a nested list\n",
    "#Takes: start cell, end cell, and sheet you want to copy from.\n",
    "\n",
    "#Only copies cell values.  Experiment with copy/deepcopy to grab formatting as well.\n",
    "def copyRange(startCol, startRow, endCol, endRow, sheet):\n",
    "    rangeSelected = []\n",
    "    #Loops through selected Rows\n",
    "    for i in range(startRow,endRow + 1,1):\n",
    "        #Appends the row to a RowSelected list\n",
    "        rowSelected = []\n",
    "        for j in range(startCol,endCol+1,1):\n",
    "            rowSelected.append(sheet.cell(row = i, column = j).value)\n",
    "        #Adds the RowSelected List and nests inside the rangeSelected\n",
    "        rangeSelected.append(rowSelected)\n",
    " \n",
    "    return rangeSelected"
   ]
  },
  {
   "cell_type": "code",
   "execution_count": null,
   "metadata": {},
   "outputs": [],
   "source": [
    "#Paste range\n",
    "#Paste data from copyRange into template sheet\n",
    "def pasteRange(startCol, startRow, endCol, endRow, sheetReceiving,copiedData):\n",
    "    countRow = 0\n",
    "    for i in range(startRow,endRow+1,1):\n",
    "        countCol = 0\n",
    "        for j in range(startCol,endCol+1,1):\n",
    "            \n",
    "            sheetReceiving.cell(row = i, column = j).value = copiedData\n",
    "            countCol += 1\n",
    "        countRow += 1"
   ]
  },
  {
   "cell_type": "code",
   "execution_count": null,
   "metadata": {},
   "outputs": [],
   "source": [
    "def createData():\n",
    "    print(\"Processing...\")\n",
    "    selectedRange = copyRange(1,2,4,14,sheet) #Change the 4 number values\n",
    "    pastingRange = pasteRange(1,3,4,15,temp_sheet,selectedRange) #Change the 4 number values\n",
    "    #You can save the template as another file to create a new file here too.s\n",
    "    template.save(\"foo.xlsx\")\n",
    "    print(\"Range copied and pasted!\")"
   ]
  },
  {
   "cell_type": "code",
   "execution_count": null,
   "metadata": {},
   "outputs": [],
   "source": [
    "player_pool = copyRange(startCol=14, startRow=9, endCol=end_col, endRow=end_row, sheet=ws)\n",
    "\n",
    "for player in player_pool:\n",
    "    if (player[4]) == 'T1':\n",
    "        print(player[1])"
   ]
  },
  {
   "cell_type": "code",
   "execution_count": null,
   "metadata": {},
   "outputs": [],
   "source": [
    "player_pool = copyRange(startCol=14, startRow=9, endCol=end_col, endRow=end_row, sheet=ws)\n",
    "player_pool"
   ]
  }
 ],
 "metadata": {
  "kernelspec": {
   "display_name": "Python 3",
   "language": "python",
   "name": "python3"
  },
  "language_info": {
   "codemirror_mode": {
    "name": "ipython",
    "version": 3
   },
   "file_extension": ".py",
   "mimetype": "text/x-python",
   "name": "python",
   "nbconvert_exporter": "python",
   "pygments_lexer": "ipython3",
   "version": "3.6.6"
  }
 },
 "nbformat": 4,
 "nbformat_minor": 2
}
