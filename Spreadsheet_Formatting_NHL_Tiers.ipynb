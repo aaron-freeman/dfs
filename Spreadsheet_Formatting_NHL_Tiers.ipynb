{
 "cells": [
  {
   "cell_type": "code",
   "execution_count": 22,
   "metadata": {},
   "outputs": [],
   "source": [
    "import csv\n",
    "\n",
    "import openpyxl\n",
    "from openpyxl import load_workbook\n",
    "from openpyxl.formatting import Rule\n",
    "from openpyxl.styles import Color, PatternFill, Font, Border\n",
    "from openpyxl.styles.differential import DifferentialStyle\n",
    "from openpyxl.formatting.rule import ColorScaleRule, CellIsRule, FormulaRule\n",
    "from openpyxl.worksheet.cell_range import CellRange\n",
    "from openpyxl.utils import coordinate_from_string, column_index_from_string\n",
    "\n",
    "import pandas as pd"
   ]
  },
  {
   "cell_type": "code",
   "execution_count": 2,
   "metadata": {},
   "outputs": [],
   "source": [
    "wb = openpyxl.Workbook()\n",
    "ws = wb.active\n",
    "\n",
    "entries_csv = r\"C:\\Users\\aaron\\dev\\dfs\\DKEntries.csv\"\n",
    "\n",
    "with open(entries_csv) as f:\n",
    "    reader = csv.reader(f)\n",
    "    for row in reader:\n",
    "        ws.append(row)\n",
    "\n",
    "wb.save(r\"C:\\Users\\aaron\\dev\\dfs\\DKEntries.xlsx\")"
   ]
  },
  {
   "cell_type": "code",
   "execution_count": 3,
   "metadata": {},
   "outputs": [],
   "source": [
    "filename = r\"C:\\Users\\aaron\\dev\\dfs\\DKEntries.xlsx\"\n",
    "wb = load_workbook(filename)\n",
    "ws = wb.active"
   ]
  },
  {
   "cell_type": "code",
   "execution_count": 12,
   "metadata": {},
   "outputs": [
    {
     "name": "stdout",
     "output_type": "stream",
     "text": [
      "U58\n",
      "('U', 58)\n",
      "21\n",
      "58\n"
     ]
    }
   ],
   "source": [
    "end_col_row_coord = ws.dimensions.split(':')[1]\n",
    "xy = coordinate_from_string(end_col_row_coord)\n",
    "end_col = column_index_from_string(xy[0])\n",
    "end_row = xy[1]\n",
    "\n",
    "print(end_col_row_coord)\n",
    "print(xy)\n",
    "print(end_col)\n",
    "print(end_row)"
   ]
  },
  {
   "cell_type": "code",
   "execution_count": 9,
   "metadata": {},
   "outputs": [
    {
     "data": {
      "text/html": [
       "<div>\n",
       "<style scoped>\n",
       "    .dataframe tbody tr th:only-of-type {\n",
       "        vertical-align: middle;\n",
       "    }\n",
       "\n",
       "    .dataframe tbody tr th {\n",
       "        vertical-align: top;\n",
       "    }\n",
       "\n",
       "    .dataframe thead th {\n",
       "        text-align: right;\n",
       "    }\n",
       "</style>\n",
       "<table border=\"1\" class=\"dataframe\">\n",
       "  <thead>\n",
       "    <tr style=\"text-align: right;\">\n",
       "      <th></th>\n",
       "      <th>Team</th>\n",
       "      <th>Font Color</th>\n",
       "      <th>Fill Color</th>\n",
       "    </tr>\n",
       "  </thead>\n",
       "  <tbody>\n",
       "    <tr>\n",
       "      <th>0</th>\n",
       "      <td>ANH</td>\n",
       "      <td>110000</td>\n",
       "      <td>EF5225</td>\n",
       "    </tr>\n",
       "    <tr>\n",
       "      <th>1</th>\n",
       "      <td>ARI</td>\n",
       "      <td>EFE1C6</td>\n",
       "      <td>841F27</td>\n",
       "    </tr>\n",
       "    <tr>\n",
       "      <th>2</th>\n",
       "      <td>BOS</td>\n",
       "      <td>110000</td>\n",
       "      <td>FFC422</td>\n",
       "    </tr>\n",
       "    <tr>\n",
       "      <th>3</th>\n",
       "      <td>BUF</td>\n",
       "      <td>FDBB2F</td>\n",
       "      <td>002E62</td>\n",
       "    </tr>\n",
       "    <tr>\n",
       "      <th>4</th>\n",
       "      <td>CGY</td>\n",
       "      <td>FFC758</td>\n",
       "      <td>E03A3E</td>\n",
       "    </tr>\n",
       "    <tr>\n",
       "      <th>5</th>\n",
       "      <td>CAR</td>\n",
       "      <td>E03A3E</td>\n",
       "      <td>8E8E90</td>\n",
       "    </tr>\n",
       "    <tr>\n",
       "      <th>6</th>\n",
       "      <td>CHI</td>\n",
       "      <td>110000</td>\n",
       "      <td>E3263A</td>\n",
       "    </tr>\n",
       "    <tr>\n",
       "      <th>7</th>\n",
       "      <td>COL</td>\n",
       "      <td>A9B0B8</td>\n",
       "      <td>8B2942</td>\n",
       "    </tr>\n",
       "    <tr>\n",
       "      <th>8</th>\n",
       "      <td>CLS</td>\n",
       "      <td>E03A3E</td>\n",
       "      <td>00285C</td>\n",
       "    </tr>\n",
       "    <tr>\n",
       "      <th>9</th>\n",
       "      <td>DAL</td>\n",
       "      <td>C0C0C0</td>\n",
       "      <td>006A4E</td>\n",
       "    </tr>\n",
       "    <tr>\n",
       "      <th>10</th>\n",
       "      <td>DET</td>\n",
       "      <td>FFFFFF</td>\n",
       "      <td>EC1F26</td>\n",
       "    </tr>\n",
       "    <tr>\n",
       "      <th>11</th>\n",
       "      <td>EDM</td>\n",
       "      <td>E66A20</td>\n",
       "      <td>003777</td>\n",
       "    </tr>\n",
       "    <tr>\n",
       "      <th>12</th>\n",
       "      <td>FLA</td>\n",
       "      <td>B9975B</td>\n",
       "      <td>002E5F</td>\n",
       "    </tr>\n",
       "    <tr>\n",
       "      <th>13</th>\n",
       "      <td>LAK</td>\n",
       "      <td>AFB7BA</td>\n",
       "      <td>110000</td>\n",
       "    </tr>\n",
       "    <tr>\n",
       "      <th>14</th>\n",
       "      <td>MIN</td>\n",
       "      <td>EFB410</td>\n",
       "      <td>025736</td>\n",
       "    </tr>\n",
       "    <tr>\n",
       "      <th>15</th>\n",
       "      <td>MON</td>\n",
       "      <td>213770</td>\n",
       "      <td>BF2F38</td>\n",
       "    </tr>\n",
       "    <tr>\n",
       "      <th>16</th>\n",
       "      <td>NSH</td>\n",
       "      <td>FDBB2F</td>\n",
       "      <td>002E62</td>\n",
       "    </tr>\n",
       "    <tr>\n",
       "      <th>17</th>\n",
       "      <td>NJD</td>\n",
       "      <td>E03A3E</td>\n",
       "      <td>110000</td>\n",
       "    </tr>\n",
       "    <tr>\n",
       "      <th>18</th>\n",
       "      <td>NYI</td>\n",
       "      <td>F57D31</td>\n",
       "      <td>00529B</td>\n",
       "    </tr>\n",
       "    <tr>\n",
       "      <th>19</th>\n",
       "      <td>NYR</td>\n",
       "      <td>E6393F</td>\n",
       "      <td>0161AB</td>\n",
       "    </tr>\n",
       "    <tr>\n",
       "      <th>20</th>\n",
       "      <td>OTT</td>\n",
       "      <td>E4173E</td>\n",
       "      <td>D69F0F</td>\n",
       "    </tr>\n",
       "    <tr>\n",
       "      <th>21</th>\n",
       "      <td>PHI</td>\n",
       "      <td>110000</td>\n",
       "      <td>F47940</td>\n",
       "    </tr>\n",
       "    <tr>\n",
       "      <th>22</th>\n",
       "      <td>PIT</td>\n",
       "      <td>110000</td>\n",
       "      <td>D1BD80</td>\n",
       "    </tr>\n",
       "    <tr>\n",
       "      <th>23</th>\n",
       "      <td>SJ</td>\n",
       "      <td>F35F20</td>\n",
       "      <td>05535D</td>\n",
       "    </tr>\n",
       "    <tr>\n",
       "      <th>24</th>\n",
       "      <td>STL</td>\n",
       "      <td>0546A0</td>\n",
       "      <td>FFC325</td>\n",
       "    </tr>\n",
       "    <tr>\n",
       "      <th>25</th>\n",
       "      <td>TB</td>\n",
       "      <td>C0C0C0</td>\n",
       "      <td>013E7D</td>\n",
       "    </tr>\n",
       "    <tr>\n",
       "      <th>26</th>\n",
       "      <td>TOR</td>\n",
       "      <td>FFFFFF</td>\n",
       "      <td>003777</td>\n",
       "    </tr>\n",
       "    <tr>\n",
       "      <th>27</th>\n",
       "      <td>VAN</td>\n",
       "      <td>047A4A</td>\n",
       "      <td>07346F</td>\n",
       "    </tr>\n",
       "    <tr>\n",
       "      <th>28</th>\n",
       "      <td>WSH</td>\n",
       "      <td>00214E</td>\n",
       "      <td>CF132B</td>\n",
       "    </tr>\n",
       "    <tr>\n",
       "      <th>29</th>\n",
       "      <td>WPG</td>\n",
       "      <td>002E62</td>\n",
       "      <td>A8A9AD</td>\n",
       "    </tr>\n",
       "    <tr>\n",
       "      <th>30</th>\n",
       "      <td>VGK</td>\n",
       "      <td>B4975A</td>\n",
       "      <td>333F42</td>\n",
       "    </tr>\n",
       "  </tbody>\n",
       "</table>\n",
       "</div>"
      ],
      "text/plain": [
       "   Team Font Color Fill Color\n",
       "0   ANH     110000     EF5225\n",
       "1   ARI     EFE1C6     841F27\n",
       "2   BOS     110000     FFC422\n",
       "3   BUF     FDBB2F     002E62\n",
       "4   CGY     FFC758     E03A3E\n",
       "5   CAR     E03A3E     8E8E90\n",
       "6   CHI     110000     E3263A\n",
       "7   COL     A9B0B8     8B2942\n",
       "8   CLS     E03A3E     00285C\n",
       "9   DAL     C0C0C0     006A4E\n",
       "10  DET     FFFFFF     EC1F26\n",
       "11  EDM     E66A20     003777\n",
       "12  FLA     B9975B     002E5F\n",
       "13  LAK     AFB7BA     110000\n",
       "14  MIN     EFB410     025736\n",
       "15  MON     213770     BF2F38\n",
       "16  NSH     FDBB2F     002E62\n",
       "17  NJD     E03A3E     110000\n",
       "18  NYI     F57D31     00529B\n",
       "19  NYR     E6393F     0161AB\n",
       "20  OTT     E4173E     D69F0F\n",
       "21  PHI     110000     F47940\n",
       "22  PIT     110000     D1BD80\n",
       "23   SJ     F35F20     05535D\n",
       "24  STL     0546A0     FFC325\n",
       "25   TB     C0C0C0     013E7D\n",
       "26  TOR     FFFFFF     003777\n",
       "27  VAN     047A4A     07346F\n",
       "28  WSH     00214E     CF132B\n",
       "29  WPG     002E62     A8A9AD\n",
       "30  VGK     B4975A     333F42"
      ]
     },
     "execution_count": 9,
     "metadata": {},
     "output_type": "execute_result"
    }
   ],
   "source": [
    "colors_csv = r\"C:\\Users\\aaron\\dev\\dfs\\NHL_Team_Colors.csv\"\n",
    "colors = pd.read_csv(colors_csv, dtype='str', index_col=False)\n",
    "colors"
   ]
  },
  {
   "cell_type": "code",
   "execution_count": 10,
   "metadata": {
    "scrolled": true
   },
   "outputs": [
    {
     "data": {
      "text/plain": [
       "{'ANH': ['110000', 'EF5225'],\n",
       " 'ARI': ['EFE1C6', '841F27'],\n",
       " 'BOS': ['110000', 'FFC422'],\n",
       " 'BUF': ['FDBB2F', '002E62'],\n",
       " 'CGY': ['FFC758', 'E03A3E'],\n",
       " 'CAR': ['E03A3E', '8E8E90'],\n",
       " 'CHI': ['110000', 'E3263A'],\n",
       " 'COL': ['A9B0B8', '8B2942'],\n",
       " 'CLS': ['E03A3E', '00285C'],\n",
       " 'DAL': ['C0C0C0', '006A4E'],\n",
       " 'DET': ['FFFFFF', 'EC1F26'],\n",
       " 'EDM': ['E66A20', '003777'],\n",
       " 'FLA': ['B9975B', '002E5F'],\n",
       " 'LAK': ['AFB7BA', '110000'],\n",
       " 'MIN': ['EFB410', '025736'],\n",
       " 'MON': ['213770', 'BF2F38'],\n",
       " 'NSH': ['FDBB2F', '002E62'],\n",
       " 'NJD': ['E03A3E', '110000'],\n",
       " 'NYI': ['F57D31', '00529B'],\n",
       " 'NYR': ['E6393F', '0161AB'],\n",
       " 'OTT': ['E4173E', 'D69F0F'],\n",
       " 'PHI': ['110000', 'F47940'],\n",
       " 'PIT': ['110000', 'D1BD80'],\n",
       " 'SJ': ['F35F20', '05535D'],\n",
       " 'STL': ['0546A0', 'FFC325'],\n",
       " 'TB': ['C0C0C0', '013E7D'],\n",
       " 'TOR': ['FFFFFF', '003777'],\n",
       " 'VAN': ['047A4A', '07346F'],\n",
       " 'WSH': ['00214E', 'CF132B'],\n",
       " 'WPG': ['002E62', 'A8A9AD'],\n",
       " 'VGK': ['B4975A', '333F42']}"
      ]
     },
     "execution_count": 10,
     "metadata": {},
     "output_type": "execute_result"
    }
   ],
   "source": [
    "col_dict = colors.set_index('Team').T.to_dict('list')\n",
    "col_dict"
   ]
  },
  {
   "cell_type": "code",
   "execution_count": 11,
   "metadata": {},
   "outputs": [],
   "source": [
    "for key, value in col_dict.items():\n",
    "    text = Font(color=value[0])\n",
    "    fill = PatternFill(bgColor=value[1])\n",
    "    dxf = DifferentialStyle(font=text, fill=fill)\n",
    "    rule = Rule(type=\"containsText\", operator=\"containsText\", text=key, dxf=dxf)\n",
    "    rule.formula = ['=$T9=\"{}\"'.format(key)]\n",
    "    ws.conditional_formatting.add('N9:{}'.format(end_col_row_coord), rule)\n",
    "    wb.save(filename)"
   ]
  },
  {
   "cell_type": "markdown",
   "metadata": {},
   "source": [
    "## Copy 'Name+ID' column, paste into MS Word, then copy back to same column in spreadsheet"
   ]
  },
  {
   "cell_type": "code",
   "execution_count": 20,
   "metadata": {},
   "outputs": [],
   "source": [
    "#Copy range of cells as a nested list\n",
    "#Takes: start cell, end cell, and sheet you want to copy from.\n",
    "def copyRange(startCol, startRow, endCol, endRow, sheet):\n",
    "    rangeSelected = []\n",
    "    #Loops through selected Rows\n",
    "    for i in range(startRow,endRow + 1,1):\n",
    "        #Appends the row to a RowSelected list\n",
    "        rowSelected = []\n",
    "        for j in range(startCol,endCol+1,1):\n",
    "            rowSelected.append(sheet.cell(row = i, column = j).value)\n",
    "        #Adds the RowSelected List and nests inside the rangeSelected\n",
    "        rangeSelected.append(rowSelected)\n",
    " \n",
    "    return rangeSelected"
   ]
  },
  {
   "cell_type": "raw",
   "metadata": {},
   "source": [
    "print(rangeSelected)"
   ]
  },
  {
   "cell_type": "code",
   "execution_count": 16,
   "metadata": {},
   "outputs": [],
   "source": [
    "#Paste range\n",
    "#Paste data from copyRange into template sheet\n",
    "def pasteRange(startCol, startRow, endCol, endRow, sheetReceiving,copiedData):\n",
    "    countRow = 0\n",
    "    for i in range(startRow,endRow+1,1):\n",
    "        countCol = 0\n",
    "        for j in range(startCol,endCol+1,1):\n",
    "            \n",
    "            sheetReceiving.cell(row = i, column = j).value = copiedData\n",
    "            countCol += 1\n",
    "        countRow += 1"
   ]
  },
  {
   "cell_type": "code",
   "execution_count": null,
   "metadata": {},
   "outputs": [],
   "source": [
    "def createData():\n",
    "    print(\"Processing...\")\n",
    "    selectedRange = copyRange(1,2,4,14,sheet) #Change the 4 number values\n",
    "    pastingRange = pasteRange(1,3,4,15,temp_sheet,selectedRange) #Change the 4 number values\n",
    "    #You can save the template as another file to create a new file here too.s\n",
    "    template.save(\"foo.xlsx\")\n",
    "    print(\"Range copied and pasted!\")"
   ]
  },
  {
   "cell_type": "code",
   "execution_count": 17,
   "metadata": {
    "scrolled": true
   },
   "outputs": [
    {
     "name": "stdout",
     "output_type": "stream",
     "text": [
      "Jack Eichel (11799248)\n",
      "Auston Matthews (11799249)\n",
      "Mark Scheifele (11799250)\n",
      "Connor McDavid (11799251)\n"
     ]
    }
   ],
   "source": [
    "player_pool = copyRange(startCol=14, startRow=9, endCol=end_col, endRow=end_row, sheet=ws)\n",
    "\n",
    "for player in player_pool:\n",
    "    if (player[4]) == 'T1':\n",
    "        print(player[1])"
   ]
  },
  {
   "cell_type": "code",
   "execution_count": 84,
   "metadata": {},
   "outputs": [],
   "source": [
    "        pasteRange(5, 23, 5, 26, ws, player[1])\n",
    "        wb.save(filename)\n"
   ]
  },
  {
   "cell_type": "code",
   "execution_count": 21,
   "metadata": {},
   "outputs": [
    {
     "ename": "TypeError",
     "evalue": "append() takes exactly one argument (3 given)",
     "output_type": "error",
     "traceback": [
      "\u001b[1;31m---------------------------------------------------------------------------\u001b[0m",
      "\u001b[1;31mTypeError\u001b[0m                                 Traceback (most recent call last)",
      "\u001b[1;32m<ipython-input-21-36c74a8b2046>\u001b[0m in \u001b[0;36m<module>\u001b[1;34m()\u001b[0m\n\u001b[1;32m----> 1\u001b[1;33m \u001b[0mplayer_pool\u001b[0m \u001b[1;33m=\u001b[0m \u001b[0mcopyRange\u001b[0m\u001b[1;33m(\u001b[0m\u001b[0mstartCol\u001b[0m\u001b[1;33m=\u001b[0m\u001b[1;36m14\u001b[0m\u001b[1;33m,\u001b[0m \u001b[0mstartRow\u001b[0m\u001b[1;33m=\u001b[0m\u001b[1;36m9\u001b[0m\u001b[1;33m,\u001b[0m \u001b[0mendCol\u001b[0m\u001b[1;33m=\u001b[0m\u001b[0mend_col\u001b[0m\u001b[1;33m,\u001b[0m \u001b[0mendRow\u001b[0m\u001b[1;33m=\u001b[0m\u001b[0mend_row\u001b[0m\u001b[1;33m,\u001b[0m \u001b[0msheet\u001b[0m\u001b[1;33m=\u001b[0m\u001b[0mws\u001b[0m\u001b[1;33m)\u001b[0m\u001b[1;33m\u001b[0m\u001b[0m\n\u001b[0m\u001b[0;32m      2\u001b[0m \u001b[0mplayer_pool\u001b[0m\u001b[1;33m\u001b[0m\u001b[0m\n",
      "\u001b[1;32m<ipython-input-20-a6343750fc14>\u001b[0m in \u001b[0;36mcopyRange\u001b[1;34m(startCol, startRow, endCol, endRow, sheet)\u001b[0m\n\u001b[0;32m     14\u001b[0m             \u001b[0mfillSelected\u001b[0m\u001b[1;33m.\u001b[0m\u001b[0mappend\u001b[0m\u001b[1;33m(\u001b[0m\u001b[0msheet\u001b[0m\u001b[1;33m.\u001b[0m\u001b[0mcell\u001b[0m\u001b[1;33m(\u001b[0m\u001b[0mrow\u001b[0m \u001b[1;33m=\u001b[0m \u001b[0mi\u001b[0m\u001b[1;33m,\u001b[0m \u001b[0mcolumn\u001b[0m \u001b[1;33m=\u001b[0m \u001b[0mj\u001b[0m\u001b[1;33m)\u001b[0m\u001b[1;33m.\u001b[0m\u001b[0mfill\u001b[0m\u001b[1;33m)\u001b[0m\u001b[1;33m\u001b[0m\u001b[0m\n\u001b[0;32m     15\u001b[0m         \u001b[1;31m#Adds the RowSelected List and nests inside the rangeSelected\u001b[0m\u001b[1;33m\u001b[0m\u001b[1;33m\u001b[0m\u001b[0m\n\u001b[1;32m---> 16\u001b[1;33m         \u001b[0mrangeSelected\u001b[0m\u001b[1;33m.\u001b[0m\u001b[0mappend\u001b[0m\u001b[1;33m(\u001b[0m\u001b[0mrowSelected\u001b[0m\u001b[1;33m,\u001b[0m \u001b[0mfontSelected\u001b[0m\u001b[1;33m,\u001b[0m \u001b[0mfillSelected\u001b[0m\u001b[1;33m)\u001b[0m\u001b[1;33m\u001b[0m\u001b[0m\n\u001b[0m\u001b[0;32m     17\u001b[0m \u001b[1;33m\u001b[0m\u001b[0m\n\u001b[0;32m     18\u001b[0m     \u001b[1;32mreturn\u001b[0m \u001b[0mrangeSelected\u001b[0m\u001b[1;33m\u001b[0m\u001b[0m\n",
      "\u001b[1;31mTypeError\u001b[0m: append() takes exactly one argument (3 given)"
     ]
    }
   ],
   "source": [
    "player_pool = copyRange(startCol=14, startRow=9, endCol=end_col, endRow=end_row, sheet=ws)\n",
    "player_pool"
   ]
  },
  {
   "cell_type": "code",
   "execution_count": null,
   "metadata": {},
   "outputs": [],
   "source": []
  }
 ],
 "metadata": {
  "kernelspec": {
   "display_name": "Python 3",
   "language": "python",
   "name": "python3"
  },
  "language_info": {
   "codemirror_mode": {
    "name": "ipython",
    "version": 3
   },
   "file_extension": ".py",
   "mimetype": "text/x-python",
   "name": "python",
   "nbconvert_exporter": "python",
   "pygments_lexer": "ipython3",
   "version": "3.6.6"
  }
 },
 "nbformat": 4,
 "nbformat_minor": 2
}
