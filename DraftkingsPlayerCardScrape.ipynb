{
 "cells": [
  {
   "cell_type": "markdown",
   "metadata": {},
   "source": [
    "# Scraping data from DraftKings player cards"
   ]
  },
  {
   "cell_type": "code",
   "execution_count": 1,
   "metadata": {},
   "outputs": [],
   "source": [
    "import getpass\n",
    "import dfs_utils\n",
    "\n",
    "from selenium import webdriver\n",
    "from selenium.common.exceptions import NoSuchElementException, WebDriverException\n",
    "from selenium.webdriver.chrome.options import Options\n",
    "from selenium.webdriver.common.keys import Keys\n",
    "\n",
    "import pandas as pd\n",
    "\n",
    "import time"
   ]
  },
  {
   "cell_type": "markdown",
   "metadata": {},
   "source": [
    "#### Provide username and password to use"
   ]
  },
  {
   "cell_type": "code",
   "execution_count": 2,
   "metadata": {},
   "outputs": [
    {
     "name": "stdout",
     "output_type": "stream",
     "text": [
      "········\n"
     ]
    }
   ],
   "source": [
    "user = \"ranoa513\"\n",
    "password = getpass.getpass()\n",
    "# Output of this cell is a prompt to enter your password."
   ]
  },
  {
   "cell_type": "code",
   "execution_count": 3,
   "metadata": {},
   "outputs": [],
   "source": [
    "# Open DraftKings page in Chrome using Selenium WebDriver, sign in, select contest.\n",
    "contest = \"TEN $3K Ace (Day 4)\"\n",
    "ace_day4 = dfs_utils.dk_contest_select(user, password, contest)"
   ]
  },
  {
   "cell_type": "code",
   "execution_count": null,
   "metadata": {},
   "outputs": [],
   "source": [
    "#Download contest csv\n",
    "csv_export = ace_day4.find_element_by_link_text('Export to CSV')\n",
    "csv_export.click()"
   ]
  },
  {
   "cell_type": "code",
   "execution_count": null,
   "metadata": {},
   "outputs": [],
   "source": [
    "# Click the 'ALL' tab (to get a full list of players in contests with multiple positions)\n",
    "all_tab = driver.find_element_by_xpath('//*[@id=\"dkjs-draft\"]/div/div[2]/div/div[2]/div/div/div[3]/div[1]/div/div[2]/ul/li[6]/div/span')\n",
    "all_tab.click()"
   ]
  },
  {
   "cell_type": "code",
   "execution_count": null,
   "metadata": {},
   "outputs": [],
   "source": [
    "def data_extract(num):\n",
    "    row_num = num\n",
    "    \n",
    "    while row_num < 99:\n",
    "        player = driver.find_element_by_xpath('//*[@id=\"dkjs-draft\"]/div/div[2]/div/div[2]/div/div/div[3]/div[1]/div/div[3]/div[1]/div/div[2]/div/div[{}]/div[2]/div/span/span'.format(row_num))\n",
    "        player.click()\n",
    "        time.sleep(2)\n",
    "        row_num += 1\n",
    "        player_name = player.get_attribute('title')\n",
    "        print(player_name)\n",
    "\n",
    "        #Click the 10-game log tab\n",
    "        gamelog = driver.find_element_by_xpath('//*[@id=\"player-info\"]/div[4]/ul/li[2]/a')\n",
    "        gamelog.click()\n",
    "        time.sleep(3)\n",
    "\n",
    "        #Extract the game log to a pandas dataframe\n",
    "        log_table = driver.find_element_by_xpath('//*[@id=\"wrte-gamelog\"]').get_attribute('outerHTML')\n",
    "        df = pd.read_html(log_table, header=0, index_col=0)\n",
    "        df[0].insert(0, 'Player', player_name)\n",
    "\n",
    "        df[0].to_csv(r\"C:\\fanalytics\\<<Folder to Contain CSVs - 'NFL' maybe?>>\\{}.csv\".format(player_name))\n",
    "\n",
    "        close_card = driver.find_element_by_xpath('//*[@id=\"fancybox-close\"]')\n",
    "        close_card.click()\n",
    "        print(row_num)\n",
    "        time.sleep(2)"
   ]
  },
  {
   "cell_type": "code",
   "execution_count": null,
   "metadata": {},
   "outputs": [],
   "source": [
    "try:\n",
    "    data_extract(num=1)\n",
    "except WebDriverException:\n",
    "        player_table = driver.find_element_by_xpath('//*[@id=\"dkjs-draft\"]/div/div[2]/div/div[2]/div/div/div[3]/div[1]/div/div[3]/div[1]/div/div[2]')\n",
    "        player_table.send_keys(Keys.PAGE_DOWN)\n",
    "        time.sleep(5)\n",
    "        data_extract(num=3)"
   ]
  },
  {
   "cell_type": "code",
   "execution_count": null,
   "metadata": {},
   "outputs": [],
   "source": [
    "close_card = driver.find_element_by_xpath('//*[@id=\"fancybox-close\"]')\n",
    "close_card.click()"
   ]
  },
  {
   "cell_type": "code",
   "execution_count": null,
   "metadata": {},
   "outputs": [],
   "source": [
    "except WebDriverException:\n",
    "        player_table = driver.find_element_by_xpath('//*[@id=\"dkjs-draft\"]/div/div[2]/div/div[2]/div/div/div[3]/div[1]/div/div[3]/div[1]/div/div[2]')\n",
    "        player_table.send_keys(Keys.PAGE_DOWN)\n",
    "        row_num = 2"
   ]
  },
  {
   "cell_type": "code",
   "execution_count": null,
   "metadata": {},
   "outputs": [],
   "source": [
    "player_table = driver.find_element_by_xpath('//*[@id=\"dkjs-draft\"]/div/div[2]/div/div[2]/div/div/div[3]/div[1]/div/div[3]/div[1]/div/div[2]')"
   ]
  },
  {
   "cell_type": "code",
   "execution_count": null,
   "metadata": {},
   "outputs": [],
   "source": [
    "player_table."
   ]
  }
 ],
 "metadata": {
  "kernelspec": {
   "display_name": "Python 3",
   "language": "python",
   "name": "python3"
  },
  "language_info": {
   "codemirror_mode": {
    "name": "ipython",
    "version": 3
   },
   "file_extension": ".py",
   "mimetype": "text/x-python",
   "name": "python",
   "nbconvert_exporter": "python",
   "pygments_lexer": "ipython3",
   "version": "3.6.6"
  }
 },
 "nbformat": 4,
 "nbformat_minor": 2
}
